{
 "cells": [
  {
   "cell_type": "raw",
   "id": "d03fb27f",
   "metadata": {},
   "source": [
    "1. Enter the text\n",
    "2. Detech the language of the entered text\n",
    "3. Ask the user for langauge they need.\n",
    "4. Translate\n"
   ]
  },
  {
   "cell_type": "raw",
   "id": "3927aef3",
   "metadata": {},
   "source": [
    "I have used this line to install translate 3.6.1 package in python\n",
    "anaconda setup.py install"
   ]
  },
  {
   "cell_type": "markdown",
   "id": "ffd43bca",
   "metadata": {},
   "source": [
    "# Translator App"
   ]
  },
  {
   "cell_type": "code",
   "execution_count": 2,
   "id": "a001283e",
   "metadata": {},
   "outputs": [],
   "source": [
    "from translate import Translator"
   ]
  },
  {
   "cell_type": "code",
   "execution_count": 2,
   "id": "c2def678",
   "metadata": {},
   "outputs": [],
   "source": [
    "def translator_app():\n",
    "    print(\"Welcome to Telugu to English translation app\")\n",
    "    text=input(\"What is the text you want to translate? >> \")\n",
    "    tran=Translator(from_lang='en' ,to_lang='te')\n",
    "    translation=tran.translate(text)\n",
    "    return translation"
   ]
  },
  {
   "cell_type": "code",
   "execution_count": 3,
   "id": "d1bb9cd2",
   "metadata": {},
   "outputs": [
    {
     "name": "stdout",
     "output_type": "stream",
     "text": [
      "Welcome to Telugu to English translation app\n",
      "What is the text you want to translate? >> how are you?\n"
     ]
    },
    {
     "data": {
      "text/plain": [
       "'ఎలా ఉనారు ?'"
      ]
     },
     "execution_count": 3,
     "metadata": {},
     "output_type": "execute_result"
    }
   ],
   "source": [
    "translator_app()"
   ]
  },
  {
   "cell_type": "code",
   "execution_count": 4,
   "id": "146c2809",
   "metadata": {},
   "outputs": [
    {
     "name": "stdout",
     "output_type": "stream",
     "text": [
      "Welcome to Telugu to English translation app\n",
      "What is the text you want to translate? >> how does food taste?\n"
     ]
    },
    {
     "data": {
      "text/plain": [
       "'ఆహారపు రుచి ఎలా ఉంటుంది?'"
      ]
     },
     "execution_count": 4,
     "metadata": {},
     "output_type": "execute_result"
    }
   ],
   "source": [
    "translator_app()"
   ]
  },
  {
   "cell_type": "code",
   "execution_count": null,
   "id": "5d00bc68",
   "metadata": {},
   "outputs": [],
   "source": []
  },
  {
   "cell_type": "code",
   "execution_count": 3,
   "id": "4bb6696e",
   "metadata": {},
   "outputs": [
    {
     "name": "stdout",
     "output_type": "stream",
     "text": [
      "Welcome to the translation app\n",
      "What is the text you want to translate? >> thank you\n"
     ]
    },
    {
     "data": {
      "text/plain": [
       "'감사합니다'"
      ]
     },
     "execution_count": 3,
     "metadata": {},
     "output_type": "execute_result"
    }
   ],
   "source": [
    "def translator_app():\n",
    "    print(\"Welcome to the translation app\")\n",
    "    text=input(\"What is the text you want to translate? >> \")\n",
    "    tran=Translator(from_lang='en' ,to_lang='ko')\n",
    "    translation=tran.translate(text)\n",
    "    return translation\n",
    "\n",
    "translator_app()"
   ]
  },
  {
   "cell_type": "code",
   "execution_count": null,
   "id": "9eacecee",
   "metadata": {},
   "outputs": [],
   "source": []
  }
 ],
 "metadata": {
  "kernelspec": {
   "display_name": "Python 3 (ipykernel)",
   "language": "python",
   "name": "python3"
  },
  "language_info": {
   "codemirror_mode": {
    "name": "ipython",
    "version": 3
   },
   "file_extension": ".py",
   "mimetype": "text/x-python",
   "name": "python",
   "nbconvert_exporter": "python",
   "pygments_lexer": "ipython3",
   "version": "3.10.9"
  }
 },
 "nbformat": 4,
 "nbformat_minor": 5
}
